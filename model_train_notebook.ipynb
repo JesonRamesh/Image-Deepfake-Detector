{
  "nbformat": 4,
  "nbformat_minor": 0,
  "metadata": {
    "colab": {
      "provenance": []
    },
    "kernelspec": {
      "name": "python3",
      "display_name": "Python 3"
    },
    "language_info": {
      "name": "python"
    }
  },
  "cells": [
    {
      "cell_type": "code",
      "execution_count": 1,
      "metadata": {
        "colab": {
          "base_uri": "https://localhost:8080/",
          "height": 90
        },
        "id": "sRL_MubD2YgQ",
        "outputId": "091398f4-84f8-4c44-8998-f5d9d7aa6f18"
      },
      "outputs": [
        {
          "output_type": "display_data",
          "data": {
            "text/plain": [
              "<IPython.core.display.HTML object>"
            ],
            "text/html": [
              "\n",
              "     <input type=\"file\" id=\"files-7498d1a6-1de4-4a92-bf3f-f4767ae9b48a\" name=\"files[]\" multiple disabled\n",
              "        style=\"border:none\" />\n",
              "     <output id=\"result-7498d1a6-1de4-4a92-bf3f-f4767ae9b48a\">\n",
              "      Upload widget is only available when the cell has been executed in the\n",
              "      current browser session. Please rerun this cell to enable.\n",
              "      </output>\n",
              "      <script>// Copyright 2017 Google LLC\n",
              "//\n",
              "// Licensed under the Apache License, Version 2.0 (the \"License\");\n",
              "// you may not use this file except in compliance with the License.\n",
              "// You may obtain a copy of the License at\n",
              "//\n",
              "//      http://www.apache.org/licenses/LICENSE-2.0\n",
              "//\n",
              "// Unless required by applicable law or agreed to in writing, software\n",
              "// distributed under the License is distributed on an \"AS IS\" BASIS,\n",
              "// WITHOUT WARRANTIES OR CONDITIONS OF ANY KIND, either express or implied.\n",
              "// See the License for the specific language governing permissions and\n",
              "// limitations under the License.\n",
              "\n",
              "/**\n",
              " * @fileoverview Helpers for google.colab Python module.\n",
              " */\n",
              "(function(scope) {\n",
              "function span(text, styleAttributes = {}) {\n",
              "  const element = document.createElement('span');\n",
              "  element.textContent = text;\n",
              "  for (const key of Object.keys(styleAttributes)) {\n",
              "    element.style[key] = styleAttributes[key];\n",
              "  }\n",
              "  return element;\n",
              "}\n",
              "\n",
              "// Max number of bytes which will be uploaded at a time.\n",
              "const MAX_PAYLOAD_SIZE = 100 * 1024;\n",
              "\n",
              "function _uploadFiles(inputId, outputId) {\n",
              "  const steps = uploadFilesStep(inputId, outputId);\n",
              "  const outputElement = document.getElementById(outputId);\n",
              "  // Cache steps on the outputElement to make it available for the next call\n",
              "  // to uploadFilesContinue from Python.\n",
              "  outputElement.steps = steps;\n",
              "\n",
              "  return _uploadFilesContinue(outputId);\n",
              "}\n",
              "\n",
              "// This is roughly an async generator (not supported in the browser yet),\n",
              "// where there are multiple asynchronous steps and the Python side is going\n",
              "// to poll for completion of each step.\n",
              "// This uses a Promise to block the python side on completion of each step,\n",
              "// then passes the result of the previous step as the input to the next step.\n",
              "function _uploadFilesContinue(outputId) {\n",
              "  const outputElement = document.getElementById(outputId);\n",
              "  const steps = outputElement.steps;\n",
              "\n",
              "  const next = steps.next(outputElement.lastPromiseValue);\n",
              "  return Promise.resolve(next.value.promise).then((value) => {\n",
              "    // Cache the last promise value to make it available to the next\n",
              "    // step of the generator.\n",
              "    outputElement.lastPromiseValue = value;\n",
              "    return next.value.response;\n",
              "  });\n",
              "}\n",
              "\n",
              "/**\n",
              " * Generator function which is called between each async step of the upload\n",
              " * process.\n",
              " * @param {string} inputId Element ID of the input file picker element.\n",
              " * @param {string} outputId Element ID of the output display.\n",
              " * @return {!Iterable<!Object>} Iterable of next steps.\n",
              " */\n",
              "function* uploadFilesStep(inputId, outputId) {\n",
              "  const inputElement = document.getElementById(inputId);\n",
              "  inputElement.disabled = false;\n",
              "\n",
              "  const outputElement = document.getElementById(outputId);\n",
              "  outputElement.innerHTML = '';\n",
              "\n",
              "  const pickedPromise = new Promise((resolve) => {\n",
              "    inputElement.addEventListener('change', (e) => {\n",
              "      resolve(e.target.files);\n",
              "    });\n",
              "  });\n",
              "\n",
              "  const cancel = document.createElement('button');\n",
              "  inputElement.parentElement.appendChild(cancel);\n",
              "  cancel.textContent = 'Cancel upload';\n",
              "  const cancelPromise = new Promise((resolve) => {\n",
              "    cancel.onclick = () => {\n",
              "      resolve(null);\n",
              "    };\n",
              "  });\n",
              "\n",
              "  // Wait for the user to pick the files.\n",
              "  const files = yield {\n",
              "    promise: Promise.race([pickedPromise, cancelPromise]),\n",
              "    response: {\n",
              "      action: 'starting',\n",
              "    }\n",
              "  };\n",
              "\n",
              "  cancel.remove();\n",
              "\n",
              "  // Disable the input element since further picks are not allowed.\n",
              "  inputElement.disabled = true;\n",
              "\n",
              "  if (!files) {\n",
              "    return {\n",
              "      response: {\n",
              "        action: 'complete',\n",
              "      }\n",
              "    };\n",
              "  }\n",
              "\n",
              "  for (const file of files) {\n",
              "    const li = document.createElement('li');\n",
              "    li.append(span(file.name, {fontWeight: 'bold'}));\n",
              "    li.append(span(\n",
              "        `(${file.type || 'n/a'}) - ${file.size} bytes, ` +\n",
              "        `last modified: ${\n",
              "            file.lastModifiedDate ? file.lastModifiedDate.toLocaleDateString() :\n",
              "                                    'n/a'} - `));\n",
              "    const percent = span('0% done');\n",
              "    li.appendChild(percent);\n",
              "\n",
              "    outputElement.appendChild(li);\n",
              "\n",
              "    const fileDataPromise = new Promise((resolve) => {\n",
              "      const reader = new FileReader();\n",
              "      reader.onload = (e) => {\n",
              "        resolve(e.target.result);\n",
              "      };\n",
              "      reader.readAsArrayBuffer(file);\n",
              "    });\n",
              "    // Wait for the data to be ready.\n",
              "    let fileData = yield {\n",
              "      promise: fileDataPromise,\n",
              "      response: {\n",
              "        action: 'continue',\n",
              "      }\n",
              "    };\n",
              "\n",
              "    // Use a chunked sending to avoid message size limits. See b/62115660.\n",
              "    let position = 0;\n",
              "    do {\n",
              "      const length = Math.min(fileData.byteLength - position, MAX_PAYLOAD_SIZE);\n",
              "      const chunk = new Uint8Array(fileData, position, length);\n",
              "      position += length;\n",
              "\n",
              "      const base64 = btoa(String.fromCharCode.apply(null, chunk));\n",
              "      yield {\n",
              "        response: {\n",
              "          action: 'append',\n",
              "          file: file.name,\n",
              "          data: base64,\n",
              "        },\n",
              "      };\n",
              "\n",
              "      let percentDone = fileData.byteLength === 0 ?\n",
              "          100 :\n",
              "          Math.round((position / fileData.byteLength) * 100);\n",
              "      percent.textContent = `${percentDone}% done`;\n",
              "\n",
              "    } while (position < fileData.byteLength);\n",
              "  }\n",
              "\n",
              "  // All done.\n",
              "  yield {\n",
              "    response: {\n",
              "      action: 'complete',\n",
              "    }\n",
              "  };\n",
              "}\n",
              "\n",
              "scope.google = scope.google || {};\n",
              "scope.google.colab = scope.google.colab || {};\n",
              "scope.google.colab._files = {\n",
              "  _uploadFiles,\n",
              "  _uploadFilesContinue,\n",
              "};\n",
              "})(self);\n",
              "</script> "
            ]
          },
          "metadata": {}
        },
        {
          "output_type": "stream",
          "name": "stdout",
          "text": [
            "Saving kaggle.json to kaggle.json\n"
          ]
        },
        {
          "output_type": "execute_result",
          "data": {
            "text/plain": [
              "{'kaggle.json': b'{\"username\":\"jesonr\",\"key\":\"3393b2ff613ba29c962fe66a3796e1df\"}'}"
            ]
          },
          "metadata": {},
          "execution_count": 1
        }
      ],
      "source": [
        "from google.colab import files\n",
        "files.upload()"
      ]
    },
    {
      "cell_type": "code",
      "source": [
        "# Move kaggle.json to correct directory\n",
        "!mkdir -p ~/.kaggle\n",
        "!mv kaggle.json ~/.kaggle/\n",
        "!chmod 600 ~/.kaggle/kaggle.json\n",
        "\n",
        "# Install Kaggle CLI\n",
        "!pip install -q kaggle"
      ],
      "metadata": {
        "id": "I6-EcUD22d3v"
      },
      "execution_count": 2,
      "outputs": []
    },
    {
      "cell_type": "code",
      "source": [
        "# Download the Real vs Fake Faces dataset\n",
        "!kaggle datasets download -d xhlulu/140k-real-and-fake-faces"
      ],
      "metadata": {
        "colab": {
          "base_uri": "https://localhost:8080/"
        },
        "id": "B896xgWw2lNW",
        "outputId": "c4dad2e6-e944-4696-b202-a5caa05c62c1"
      },
      "execution_count": 3,
      "outputs": [
        {
          "output_type": "stream",
          "name": "stdout",
          "text": [
            "Dataset URL: https://www.kaggle.com/datasets/xhlulu/140k-real-and-fake-faces\n",
            "License(s): other\n",
            "Downloading 140k-real-and-fake-faces.zip to /content\n",
            " 98% 3.68G/3.75G [00:35<00:01, 39.9MB/s]\n",
            "100% 3.75G/3.75G [00:35<00:00, 114MB/s] \n"
          ]
        }
      ]
    },
    {
      "cell_type": "code",
      "source": [
        "# Unzip the dataset\n",
        "!unzip -q 140k-real-and-fake-faces.zip"
      ],
      "metadata": {
        "id": "A2FDq1Jt2pLz"
      },
      "execution_count": 4,
      "outputs": []
    },
    {
      "cell_type": "code",
      "source": [
        "import os\n",
        "\n",
        "real_test = len(os.listdir('/content/real_vs_fake/real-vs-fake/test/real'))\n",
        "fake_test = len(os.listdir('/content/real_vs_fake/real-vs-fake/test/fake'))\n",
        "\n",
        "real_valid = len(os.listdir('/content/real_vs_fake/real-vs-fake/valid/real'))\n",
        "fake_valid = len(os.listdir('/content/real_vs_fake/real-vs-fake/valid/fake'))\n",
        "\n",
        "real_test = len(os.listdir('/content/real_vs_fake/real-vs-fake/train/real'))\n",
        "fake_test = len(os.listdir('/content/real_vs_fake/real-vs-fake/train/fake'))\n",
        "\n",
        "print(f\"Real test images: {real_test}\")\n",
        "print(f\"Fake test images: {fake_test}\")\n",
        "\n",
        "print(f\"Real valid images: {real_valid}\")\n",
        "print(f\"Fake valid images: {fake_valid}\")\n",
        "\n",
        "print(f\"Real train images: {real_test}\")\n",
        "print(f\"Fake train images: {fake_test}\")\n"
      ],
      "metadata": {
        "colab": {
          "base_uri": "https://localhost:8080/"
        },
        "id": "hpYrRPAA3Yu8",
        "outputId": "6db08e81-1d6c-44c7-9eeb-161d019c1ba2"
      },
      "execution_count": 7,
      "outputs": [
        {
          "output_type": "stream",
          "name": "stdout",
          "text": [
            "Real test images: 50000\n",
            "Fake test images: 50000\n",
            "Real valid images: 10000\n",
            "Fake valid images: 10000\n",
            "Real train images: 50000\n",
            "Fake train images: 50000\n"
          ]
        }
      ]
    },
    {
      "cell_type": "code",
      "source": [
        "from torch.utils.data import DataLoader, Dataset, ConcatDataset\n",
        "from torchvision import datasets, transforms\n",
        "import torch\n",
        "import torch.nn as nn\n",
        "from torchvision.utils import make_grid\n",
        "from torchvision.utils import save_image\n",
        "from IPython.display import Image\n",
        "import matplotlib.pyplot as plt\n",
        "import numpy as np\n",
        "import random\n",
        "from PIL import Image\n",
        "%matplotlib inline"
      ],
      "metadata": {
        "id": "v2sJ9Mno3tg1"
      },
      "execution_count": 35,
      "outputs": []
    },
    {
      "cell_type": "code",
      "source": [
        "class SampledImageDataset(Dataset):\n",
        "    def __init__(self, image_paths, label, transform=None):\n",
        "        self.image_paths = image_paths\n",
        "        self.label = label\n",
        "        self.transform = transform\n",
        "\n",
        "    def __len__(self):\n",
        "        return len(self.image_paths)\n",
        "\n",
        "    def __getitem__(self, idx):\n",
        "        img = Image.open(self.image_paths[idx]).convert(\"RGB\")\n",
        "        if self.transform:\n",
        "            img = self.transform(img)\n",
        "        return img, self.label\n"
      ],
      "metadata": {
        "id": "RUdplEE2Ihgw"
      },
      "execution_count": 36,
      "outputs": []
    },
    {
      "cell_type": "code",
      "source": [
        "import glob\n",
        "\n",
        "def create_loader_by_fixed_count(data_root, subset='train', samples_per_class=250, transform=None):\n",
        "    real_dir = os.path.join(data_root, subset, 'real')\n",
        "    fake_dir = os.path.join(data_root, subset, 'fake')\n",
        "\n",
        "    real_paths = sorted(glob.glob(os.path.join(real_dir, '*')))[:samples_per_class]\n",
        "    fake_paths = sorted(glob.glob(os.path.join(fake_dir, '*')))[:samples_per_class]\n",
        "\n",
        "    real_dataset = SampledImageDataset(real_paths, label=0, transform=transform)\n",
        "    fake_dataset = SampledImageDataset(fake_paths, label=1, transform=transform)\n",
        "\n",
        "    full_dataset = ConcatDataset([real_dataset, fake_dataset])\n",
        "    loader = DataLoader(full_dataset, batch_size=32, shuffle=True)\n",
        "    return loader\n"
      ],
      "metadata": {
        "id": "5R8nvRlpI3MH"
      },
      "execution_count": 38,
      "outputs": []
    },
    {
      "cell_type": "code",
      "source": [
        "data_directory = '/content/real_vs_fake/real-vs-fake'\n",
        "\n",
        "transform = transforms.Compose([\n",
        "    transforms.Resize((128,128)),\n",
        "    transforms.ToTensor(),\n",
        "])"
      ],
      "metadata": {
        "id": "3UV19CE_JA-N"
      },
      "execution_count": 39,
      "outputs": []
    },
    {
      "cell_type": "code",
      "source": [
        "# Creating datasets and dataloaders\n",
        "from torch.utils.data import Subset\n",
        "\n",
        "# train_dataset = datasets.ImageFolder(root=f'{data_directory}/train', transform=transform)\n",
        "# valid_dataset = datasets.ImageFolder(root=f'{data_directory}/valid', transform=transform)\n",
        "# test_dataset = datasets.ImageFolder(root=f'{data_directory}/test', transform=transform)\n",
        "\n",
        "# small_train = get_balanced_subset(train_dataset, 500)\n",
        "# small_valid = get_balanced_subset(valid_dataset, 100)\n",
        "# small_test = get_balanced_subset(test_dataset, 500)\n",
        "\n",
        "train_loader = create_loader_by_fixed_count(data_directory, 'train', 250, transform)\n",
        "valid_loader = create_loader_by_fixed_count(data_directory, 'valid', 50, transform)\n",
        "test_loader = create_loader_by_fixed_count(data_directory, 'test', 250, transform)"
      ],
      "metadata": {
        "id": "DmdYHB1N7JPY"
      },
      "execution_count": 40,
      "outputs": []
    },
    {
      "cell_type": "code",
      "source": [
        "# Define a basic CNN model\n",
        "class SimpleCNN(nn.Module):\n",
        "  def __init__(self):\n",
        "    super(SimpleCNN, self).__init__()\n",
        "    self.net = nn.Sequential(\n",
        "        nn.Conv2d(3, 32, kernel_size=3, stride=1, padding=1),\n",
        "        nn.ReLU(),\n",
        "        nn.MaxPool2d(kernel_size=2, stride=2),\n",
        "\n",
        "        nn.Conv2d(32, 64, kernel_size=3, stride=1, padding=1),\n",
        "        nn.ReLU(),\n",
        "        nn.MaxPool2d(kernel_size=2, stride=2),\n",
        "\n",
        "        nn.Flatten(),\n",
        "        nn.Linear(64 * 32 * 32, 128),\n",
        "        nn.ReLU(),\n",
        "        nn.Linear(128, 2)\n",
        "    )\n",
        "\n",
        "  def forward(self, x):\n",
        "    return self.net(x)"
      ],
      "metadata": {
        "id": "p_uHM2Zg5N2X"
      },
      "execution_count": 41,
      "outputs": []
    },
    {
      "cell_type": "code",
      "source": [
        "# Training the model\n",
        "device = torch.device(\"cuda\" if torch.cuda.is_available() else \"cpu\")\n",
        "model = SimpleCNN().to(device)\n",
        "criterion = nn.CrossEntropyLoss()\n",
        "optimizer = torch.optim.Adam(model.parameters(), lr=0.001)"
      ],
      "metadata": {
        "id": "xpv4aTkF8lBj"
      },
      "execution_count": 42,
      "outputs": []
    },
    {
      "cell_type": "code",
      "source": [
        "def train(model, train_loader, criterion, optimizer, device):\n",
        "  model.train()\n",
        "  total_loss, correct, total = 0,0,0\n",
        "\n",
        "  for imgs, labels in train_loader:\n",
        "    imgs, labels = imgs.to(device), labels.to(device)\n",
        "    optimizer.zero_grad()\n",
        "    outputs = model(imgs)\n",
        "    loss = criterion(outputs, labels)\n",
        "    loss.backward()\n",
        "    optimizer.step()\n",
        "\n",
        "    total_loss += loss.item()\n",
        "    _, predicted = torch.max(outputs.data, 1)\n",
        "    correct += (predicted == labels).sum().item()\n",
        "    total += labels.size(0)\n",
        "\n",
        "  return total_loss/len(train_loader), correct/total # average loss and accuracy"
      ],
      "metadata": {
        "id": "7YEAUkfm831J"
      },
      "execution_count": 43,
      "outputs": []
    },
    {
      "cell_type": "code",
      "source": [
        "# Define the validation function\n",
        "def evaluate(model, valid_loader, criterion, device):\n",
        "    model.eval()\n",
        "    total_loss, correct, total = 0,0,0\n",
        "    with torch.no_grad():\n",
        "        for imgs, labels in valid_loader:\n",
        "            imgs, labels = imgs.to(device), labels.to(device)\n",
        "            outputs = model(imgs)\n",
        "            _, predicted = torch.max(outputs, 1)\n",
        "            total += labels.size(0)\n",
        "            correct += (predicted == labels).sum().item()\n",
        "    return correct/total"
      ],
      "metadata": {
        "id": "GkPetnjY8sdd"
      },
      "execution_count": 44,
      "outputs": []
    },
    {
      "cell_type": "code",
      "source": [
        "# Training the model\n",
        "epochs = 10\n",
        "for epoch in range(epochs):\n",
        "  train_loss, train_acc = train(model, train_loader, criterion, optimizer, device)\n",
        "  valid_acc = evaluate(model, valid_loader, criterion, device)\n",
        "  print(f\"Epoch {epoch+1} | Train Loss: {train_loss:.4f} | Train Acc: {train_acc:.4f}\")"
      ],
      "metadata": {
        "colab": {
          "base_uri": "https://localhost:8080/"
        },
        "id": "1-dB7Mt5-Gmd",
        "outputId": "8d4c9ff9-7817-491c-9d03-4a26b4c3b68c"
      },
      "execution_count": 45,
      "outputs": [
        {
          "output_type": "stream",
          "name": "stdout",
          "text": [
            "Epoch 1 | Train Loss: 0.8156 | Train Acc: 0.5020\n",
            "Epoch 2 | Train Loss: 0.6618 | Train Acc: 0.5920\n",
            "Epoch 3 | Train Loss: 0.6423 | Train Acc: 0.6320\n",
            "Epoch 4 | Train Loss: 0.5749 | Train Acc: 0.7500\n",
            "Epoch 5 | Train Loss: 0.4921 | Train Acc: 0.7260\n",
            "Epoch 6 | Train Loss: 0.4498 | Train Acc: 0.8000\n",
            "Epoch 7 | Train Loss: 0.3297 | Train Acc: 0.8680\n",
            "Epoch 8 | Train Loss: 0.2693 | Train Acc: 0.8920\n",
            "Epoch 9 | Train Loss: 0.2075 | Train Acc: 0.9280\n",
            "Epoch 10 | Train Loss: 0.1274 | Train Acc: 0.9620\n"
          ]
        }
      ]
    },
    {
      "cell_type": "code",
      "source": [
        "# Saving model weights\n",
        "torch.save(model.state_dict(), 'deepfake_cnn_weights.pth')"
      ],
      "metadata": {
        "id": "D_wQqgFR-ocO"
      },
      "execution_count": 46,
      "outputs": []
    },
    {
      "cell_type": "code",
      "source": [
        "# Saving the entire model\n",
        "torch.save(model, \"deepfake_cnn_model.pth\")"
      ],
      "metadata": {
        "id": "lCrbTaHdKzfd"
      },
      "execution_count": 47,
      "outputs": []
    },
    {
      "cell_type": "code",
      "source": [
        "# Saving metadata\n",
        "import json\n",
        "\n",
        "metadata = {\n",
        "    \"model_name\": \"SimpleCNN\",\n",
        "    \"input_size\": [128, 128],\n",
        "    \"class_names\": [\"real\", \"fake\"],\n",
        "    \"val_accuracy\": 0.93\n",
        "}\n",
        "\n",
        "with open(\"model_meta.json\", \"w\") as f:\n",
        "    json.dump(metadata, f)\n"
      ],
      "metadata": {
        "id": "F9PN3cRvLPLx"
      },
      "execution_count": 48,
      "outputs": []
    },
    {
      "cell_type": "code",
      "source": [],
      "metadata": {
        "id": "zsbKCxqvLdl4"
      },
      "execution_count": null,
      "outputs": []
    }
  ]
}